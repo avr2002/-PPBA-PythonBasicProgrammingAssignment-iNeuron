{
 "cells": [
  {
   "cell_type": "code",
   "execution_count": 1,
   "id": "22385d7f",
   "metadata": {},
   "outputs": [],
   "source": [
    "def read_word_file(file_path):\n",
    "    '''\n",
    "    This function reads word file.\n",
    "    Pass the full file path with it's extension i.e. .docx \n",
    "    '''\n",
    "    import docx\n",
    "    \n",
    "    doc = docx.Document(file_path)\n",
    "    full_text = []\n",
    "    for para in doc.paragraphs:\n",
    "        full_text.append(para.text)\n",
    "    return '\\n'.join(full_text)  "
   ]
  },
  {
   "cell_type": "code",
   "execution_count": 2,
   "id": "6e753005",
   "metadata": {},
   "outputs": [
    {
     "name": "stdout",
     "output_type": "stream",
     "text": [
      "Write a Python program to convert kilometers to miles?\n",
      "Write a Python program to convert Celsius to Fahrenheit?\n",
      "Write a Python program to display calendar?\n",
      "Write a Python program to solve quadratic equation?\n",
      "Write a Python program to swap two variables without temp variable?\n",
      "\n"
     ]
    }
   ],
   "source": [
    "print(read_word_file(\"C:\\\\Users\\AVR\\Desktop\\iNeuron Assignments\\\\3.Python Programming Basic Assignment(PPBA)\\Programming_Assingment2.docx\"))"
   ]
  },
  {
   "cell_type": "markdown",
   "id": "2c6a5ebf",
   "metadata": {},
   "source": [
    "Q1."
   ]
  },
  {
   "cell_type": "code",
   "execution_count": 4,
   "id": "74454b6c",
   "metadata": {},
   "outputs": [],
   "source": [
    "def km_miles(n):\n",
    "    return f\"{n}Km = {0.621371*n}miles\""
   ]
  },
  {
   "cell_type": "code",
   "execution_count": 5,
   "id": "6a04597c",
   "metadata": {},
   "outputs": [
    {
     "data": {
      "text/plain": [
       "'10Km = 6.21371miles'"
      ]
     },
     "execution_count": 5,
     "metadata": {},
     "output_type": "execute_result"
    }
   ],
   "source": [
    "km_miles(10)"
   ]
  },
  {
   "cell_type": "markdown",
   "id": "7094d7f6",
   "metadata": {},
   "source": [
    "Q2."
   ]
  },
  {
   "cell_type": "code",
   "execution_count": 6,
   "id": "62380d75",
   "metadata": {},
   "outputs": [],
   "source": [
    "def cel_to_fan(c):\n",
    "    return f\"{c}C = {1.8*c + 32}F\""
   ]
  },
  {
   "cell_type": "code",
   "execution_count": 7,
   "id": "9c052e7c",
   "metadata": {},
   "outputs": [
    {
     "data": {
      "text/plain": [
       "'100C = 212.0F'"
      ]
     },
     "execution_count": 7,
     "metadata": {},
     "output_type": "execute_result"
    }
   ],
   "source": [
    "cel_to_fan(100)"
   ]
  },
  {
   "cell_type": "markdown",
   "id": "a3a39040",
   "metadata": {},
   "source": [
    "Q3."
   ]
  },
  {
   "cell_type": "code",
   "execution_count": 13,
   "id": "b5d5ad3b",
   "metadata": {},
   "outputs": [],
   "source": [
    "def get_calender():\n",
    "    import calendar\n",
    "    n = int(input(\"Do you want the calender for whole year[1] or for a particular month[2]: [1/2]: \"))\n",
    "    if n == 2:\n",
    "        year = int(input(\"Enter Year: \"))\n",
    "        month = int(input(\"Enter month number: \"))\n",
    "        return calendar.month(year,month)\n",
    "    else:\n",
    "        year = int(input(\"Enter Year: \"))\n",
    "        return calendar.calendar(year)"
   ]
  },
  {
   "cell_type": "code",
   "execution_count": 14,
   "id": "83652a2d",
   "metadata": {
    "collapsed": true
   },
   "outputs": [
    {
     "name": "stdout",
     "output_type": "stream",
     "text": [
      "Do you want the calender for whole year[1] or for a particular month[2]: [1/2]: 1\n",
      "Enter Year: 2022\n",
      "                                  2022\n",
      "\n",
      "      January                   February                   March\n",
      "Mo Tu We Th Fr Sa Su      Mo Tu We Th Fr Sa Su      Mo Tu We Th Fr Sa Su\n",
      "                1  2          1  2  3  4  5  6          1  2  3  4  5  6\n",
      " 3  4  5  6  7  8  9       7  8  9 10 11 12 13       7  8  9 10 11 12 13\n",
      "10 11 12 13 14 15 16      14 15 16 17 18 19 20      14 15 16 17 18 19 20\n",
      "17 18 19 20 21 22 23      21 22 23 24 25 26 27      21 22 23 24 25 26 27\n",
      "24 25 26 27 28 29 30      28                        28 29 30 31\n",
      "31\n",
      "\n",
      "       April                      May                       June\n",
      "Mo Tu We Th Fr Sa Su      Mo Tu We Th Fr Sa Su      Mo Tu We Th Fr Sa Su\n",
      "             1  2  3                         1             1  2  3  4  5\n",
      " 4  5  6  7  8  9 10       2  3  4  5  6  7  8       6  7  8  9 10 11 12\n",
      "11 12 13 14 15 16 17       9 10 11 12 13 14 15      13 14 15 16 17 18 19\n",
      "18 19 20 21 22 23 24      16 17 18 19 20 21 22      20 21 22 23 24 25 26\n",
      "25 26 27 28 29 30         23 24 25 26 27 28 29      27 28 29 30\n",
      "                          30 31\n",
      "\n",
      "        July                     August                  September\n",
      "Mo Tu We Th Fr Sa Su      Mo Tu We Th Fr Sa Su      Mo Tu We Th Fr Sa Su\n",
      "             1  2  3       1  2  3  4  5  6  7                1  2  3  4\n",
      " 4  5  6  7  8  9 10       8  9 10 11 12 13 14       5  6  7  8  9 10 11\n",
      "11 12 13 14 15 16 17      15 16 17 18 19 20 21      12 13 14 15 16 17 18\n",
      "18 19 20 21 22 23 24      22 23 24 25 26 27 28      19 20 21 22 23 24 25\n",
      "25 26 27 28 29 30 31      29 30 31                  26 27 28 29 30\n",
      "\n",
      "      October                   November                  December\n",
      "Mo Tu We Th Fr Sa Su      Mo Tu We Th Fr Sa Su      Mo Tu We Th Fr Sa Su\n",
      "                1  2          1  2  3  4  5  6                1  2  3  4\n",
      " 3  4  5  6  7  8  9       7  8  9 10 11 12 13       5  6  7  8  9 10 11\n",
      "10 11 12 13 14 15 16      14 15 16 17 18 19 20      12 13 14 15 16 17 18\n",
      "17 18 19 20 21 22 23      21 22 23 24 25 26 27      19 20 21 22 23 24 25\n",
      "24 25 26 27 28 29 30      28 29 30                  26 27 28 29 30 31\n",
      "31\n",
      "\n"
     ]
    }
   ],
   "source": [
    "print(get_calender())"
   ]
  },
  {
   "cell_type": "code",
   "execution_count": 15,
   "id": "5bf76fb0",
   "metadata": {},
   "outputs": [
    {
     "name": "stdout",
     "output_type": "stream",
     "text": [
      "Do you want the calender for whole year[1] or for a particular month[2]: [1/2]: 2\n",
      "Enter Year: 2022\n",
      "Enter month number: 1\n",
      "    January 2022\n",
      "Mo Tu We Th Fr Sa Su\n",
      "                1  2\n",
      " 3  4  5  6  7  8  9\n",
      "10 11 12 13 14 15 16\n",
      "17 18 19 20 21 22 23\n",
      "24 25 26 27 28 29 30\n",
      "31\n",
      "\n"
     ]
    }
   ],
   "source": [
    "print(get_calender())"
   ]
  },
  {
   "cell_type": "markdown",
   "id": "76c905cc",
   "metadata": {},
   "source": [
    "Q4."
   ]
  },
  {
   "cell_type": "code",
   "execution_count": 26,
   "id": "a7869a18",
   "metadata": {},
   "outputs": [],
   "source": [
    "def quad_equation(a,b,c):\n",
    "    '''\n",
    "    Pass a,b,c as argument to solve the equation: ax^2 + bx + c = 0\n",
    "    '''\n",
    "    d = b**2 - 4*a*c\n",
    "    r1 = (-b + d**0.5)/(2*a)\n",
    "    r2 = (-b - d**0.5)/(2*a)\n",
    "    return f\"Roots of f(x) = {a}x^2 + {b}x + {c} are : {r1: .3f}, {r2: .3f}\""
   ]
  },
  {
   "cell_type": "code",
   "execution_count": 27,
   "id": "9f09e23f",
   "metadata": {},
   "outputs": [
    {
     "data": {
      "text/plain": [
       "'Roots of f(x) = 2x^2 + 3x + 4 are : -0.750+1.199j, -0.750-1.199j'"
      ]
     },
     "execution_count": 27,
     "metadata": {},
     "output_type": "execute_result"
    }
   ],
   "source": [
    "quad_equation(2,3,4)"
   ]
  },
  {
   "cell_type": "code",
   "execution_count": 28,
   "id": "7982b4ed",
   "metadata": {},
   "outputs": [
    {
     "data": {
      "text/plain": [
       "'Roots of f(x) = 2x^2 + 9x + 4 are : -0.500, -4.000'"
      ]
     },
     "execution_count": 28,
     "metadata": {},
     "output_type": "execute_result"
    }
   ],
   "source": [
    "quad_equation(2,9,4)"
   ]
  },
  {
   "cell_type": "markdown",
   "id": "2cde96e6",
   "metadata": {},
   "source": [
    "Q5."
   ]
  },
  {
   "cell_type": "code",
   "execution_count": 30,
   "id": "1b880dac",
   "metadata": {},
   "outputs": [],
   "source": [
    "def swap_var_without_temp(a,b):\n",
    "    a,b = b,a\n",
    "    return f\"a = {a}, b = {b}\""
   ]
  },
  {
   "cell_type": "code",
   "execution_count": 31,
   "id": "80da4f60",
   "metadata": {},
   "outputs": [
    {
     "data": {
      "text/plain": [
       "'a = me, b = Namaste'"
      ]
     },
     "execution_count": 31,
     "metadata": {},
     "output_type": "execute_result"
    }
   ],
   "source": [
    "swap_var_without_temp('Namaste', 'me')"
   ]
  }
 ],
 "metadata": {
  "kernelspec": {
   "display_name": "Python 3",
   "language": "python",
   "name": "python3"
  },
  "language_info": {
   "codemirror_mode": {
    "name": "ipython",
    "version": 3
   },
   "file_extension": ".py",
   "mimetype": "text/x-python",
   "name": "python",
   "nbconvert_exporter": "python",
   "pygments_lexer": "ipython3",
   "version": "3.8.5"
  }
 },
 "nbformat": 4,
 "nbformat_minor": 5
}
