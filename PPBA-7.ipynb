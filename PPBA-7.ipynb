{
 "cells": [
  {
   "cell_type": "code",
   "execution_count": 1,
   "id": "c9f38624",
   "metadata": {},
   "outputs": [],
   "source": [
    "def read_word_file(file_path):\n",
    "    '''\n",
    "    This function reads word file.\n",
    "    Pass the full file path with it's extension i.e. .docx \n",
    "    '''\n",
    "    import docx\n",
    "    \n",
    "    doc = docx.Document(file_path)\n",
    "    full_text = []\n",
    "    for para in doc.paragraphs:\n",
    "        full_text.append(para.text)\n",
    "    return '\\n'.join(full_text)"
   ]
  },
  {
   "cell_type": "code",
   "execution_count": 2,
   "id": "4502ff01",
   "metadata": {},
   "outputs": [
    {
     "name": "stdout",
     "output_type": "stream",
     "text": [
      "Write a Python Program to find sum of array?\n",
      "Write a Python Program to find largest element in an array?\n",
      "Write a Python Program for array rotation?\n",
      "Write a Python Program to Split the array and add the first part to the end?\n",
      "Write a Python Program to check if given array is Monotonic?\n"
     ]
    }
   ],
   "source": [
    "print(read_word_file(\"C:\\\\Users\\AVR\\Desktop\\iNeuron Assignments\\\\3.Python Programming Basic Assignment(PPBA)\\Programming_Assingment7.docx\"))"
   ]
  },
  {
   "cell_type": "markdown",
   "id": "369e193f",
   "metadata": {},
   "source": [
    "Q1."
   ]
  },
  {
   "cell_type": "code",
   "execution_count": 3,
   "id": "a0e41bfb",
   "metadata": {},
   "outputs": [],
   "source": [
    "def sum_array(l):\n",
    "    if len(l) == 0:\n",
    "        return l\n",
    "    s = 0\n",
    "    for i in l:\n",
    "        s = s + i\n",
    "    return s"
   ]
  },
  {
   "cell_type": "code",
   "execution_count": 4,
   "id": "a7b255a5",
   "metadata": {},
   "outputs": [
    {
     "data": {
      "text/plain": [
       "100"
      ]
     },
     "execution_count": 4,
     "metadata": {},
     "output_type": "execute_result"
    }
   ],
   "source": [
    "sum_array([10,20,30,40])"
   ]
  },
  {
   "cell_type": "markdown",
   "id": "0931348e",
   "metadata": {},
   "source": [
    "Q2."
   ]
  },
  {
   "cell_type": "code",
   "execution_count": 5,
   "id": "4b3bbc6c",
   "metadata": {},
   "outputs": [],
   "source": [
    "def max_in_array(l):\n",
    "    if len(l) == 0:\n",
    "        return l\n",
    "    l_max = -10**10\n",
    "    for i in l:\n",
    "        if i>l_max:\n",
    "            l_max = i\n",
    "    return l_max"
   ]
  },
  {
   "cell_type": "code",
   "execution_count": 6,
   "id": "9a26445a",
   "metadata": {},
   "outputs": [
    {
     "data": {
      "text/plain": [
       "0"
      ]
     },
     "execution_count": 6,
     "metadata": {},
     "output_type": "execute_result"
    }
   ],
   "source": [
    "max_in_array([-4,-3,0,-100,-1.1])"
   ]
  },
  {
   "cell_type": "markdown",
   "id": "3020fadb",
   "metadata": {},
   "source": [
    "Q3."
   ]
  },
  {
   "cell_type": "code",
   "execution_count": 11,
   "id": "c94a16c8",
   "metadata": {},
   "outputs": [],
   "source": [
    "def rotate_array(l):\n",
    "    if len(l) <= 1:\n",
    "        return l\n",
    "\n",
    "    j = len(l) - 1\n",
    "    reverse_l = []\n",
    "    while(j>=0):\n",
    "        reverse_l.append(l[j])\n",
    "        j -= 1\n",
    "    return reverse_l"
   ]
  },
  {
   "cell_type": "code",
   "execution_count": 12,
   "id": "92364566",
   "metadata": {},
   "outputs": [
    {
     "data": {
      "text/plain": [
       "[4, 3, 2, 1]"
      ]
     },
     "execution_count": 12,
     "metadata": {},
     "output_type": "execute_result"
    }
   ],
   "source": [
    "rotate_array([1,2,3,4])"
   ]
  },
  {
   "cell_type": "markdown",
   "id": "ccdf51d1",
   "metadata": {},
   "source": [
    "Q4."
   ]
  },
  {
   "cell_type": "code",
   "execution_count": 16,
   "id": "13d3d9c8",
   "metadata": {},
   "outputs": [],
   "source": [
    "def split_array(l):\n",
    "    if len(l)<=1:\n",
    "        return l\n",
    "    \n",
    "    first_half = l[0:int(len(l)/2)]\n",
    "    next_half = l[int(len(l)/2) : ]\n",
    "    return next_half+first_half"
   ]
  },
  {
   "cell_type": "code",
   "execution_count": 17,
   "id": "453d78a5",
   "metadata": {},
   "outputs": [
    {
     "data": {
      "text/plain": [
       "[5, 6, 7, 8, 9, 1, 2, 3, 4]"
      ]
     },
     "execution_count": 17,
     "metadata": {},
     "output_type": "execute_result"
    }
   ],
   "source": [
    "split_array([1,2,3,4,5,6,7,8,9])"
   ]
  },
  {
   "cell_type": "code",
   "execution_count": 18,
   "id": "d91e4a68",
   "metadata": {},
   "outputs": [
    {
     "data": {
      "text/plain": [
       "[6, 7, 8, 9, 10, 1, 2, 3, 4, 5]"
      ]
     },
     "execution_count": 18,
     "metadata": {},
     "output_type": "execute_result"
    }
   ],
   "source": [
    "split_array([1,2,3,4,5,6,7,8,9,10])"
   ]
  },
  {
   "cell_type": "markdown",
   "id": "7aff50df",
   "metadata": {},
   "source": [
    "Q5."
   ]
  },
  {
   "cell_type": "code",
   "execution_count": 25,
   "id": "c3db3ce7",
   "metadata": {},
   "outputs": [],
   "source": [
    "def check_monotonic_array(l):\n",
    "    if len(l) <=1:\n",
    "        return False\n",
    "    for i in l:\n",
    "        if l[0] != i:\n",
    "            return False\n",
    "    return True   "
   ]
  },
  {
   "cell_type": "code",
   "execution_count": 26,
   "id": "34cfe7e5",
   "metadata": {},
   "outputs": [
    {
     "data": {
      "text/plain": [
       "False"
      ]
     },
     "execution_count": 26,
     "metadata": {},
     "output_type": "execute_result"
    }
   ],
   "source": [
    "check_monotonic_array([1,2,3,4,5,6,7])"
   ]
  },
  {
   "cell_type": "code",
   "execution_count": 27,
   "id": "627f8c75",
   "metadata": {},
   "outputs": [
    {
     "data": {
      "text/plain": [
       "True"
      ]
     },
     "execution_count": 27,
     "metadata": {},
     "output_type": "execute_result"
    }
   ],
   "source": [
    "check_monotonic_array([1,1,1,1,1])"
   ]
  },
  {
   "cell_type": "code",
   "execution_count": 28,
   "id": "c57e0780",
   "metadata": {},
   "outputs": [
    {
     "data": {
      "text/plain": [
       "False"
      ]
     },
     "execution_count": 28,
     "metadata": {},
     "output_type": "execute_result"
    }
   ],
   "source": [
    "check_monotonic_array([1,1,1,1,0])"
   ]
  }
 ],
 "metadata": {
  "kernelspec": {
   "display_name": "Python 3",
   "language": "python",
   "name": "python3"
  },
  "language_info": {
   "codemirror_mode": {
    "name": "ipython",
    "version": 3
   },
   "file_extension": ".py",
   "mimetype": "text/x-python",
   "name": "python",
   "nbconvert_exporter": "python",
   "pygments_lexer": "ipython3",
   "version": "3.8.5"
  }
 },
 "nbformat": 4,
 "nbformat_minor": 5
}
