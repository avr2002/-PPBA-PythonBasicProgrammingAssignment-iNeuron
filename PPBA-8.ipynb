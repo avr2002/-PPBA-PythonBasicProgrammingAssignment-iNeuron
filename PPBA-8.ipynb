{
 "cells": [
  {
   "cell_type": "code",
   "execution_count": 1,
   "id": "8e2f6228",
   "metadata": {},
   "outputs": [],
   "source": [
    "def read_word_file(file_path):\n",
    "    '''\n",
    "    This function reads word file.\n",
    "    Pass the full file path with it's extension i.e. .docx \n",
    "    '''\n",
    "    import docx\n",
    "    \n",
    "    doc = docx.Document(file_path)\n",
    "    full_text = []\n",
    "    for para in doc.paragraphs:\n",
    "        full_text.append(para.text)\n",
    "    return '\\n'.join(full_text)"
   ]
  },
  {
   "cell_type": "code",
   "execution_count": 2,
   "id": "b5aa133f",
   "metadata": {},
   "outputs": [
    {
     "name": "stdout",
     "output_type": "stream",
     "text": [
      "Write a Python Program to Add Two Matrices?\n",
      "Write a Python Program to Multiply Two Matrices?\n",
      "Write a Python Program to Transpose a Matrix?\n",
      "Write a Python Program to Sort Words in Alphabetic Order?\n",
      "Write a Python Program to Remove Punctuation From a String?\n"
     ]
    }
   ],
   "source": [
    "print(read_word_file(\"C:\\\\Users\\AVR\\Desktop\\iNeuron Assignments\\\\3.Python Programming Basic Assignment(PPBA)\\Programming_Assingment8.docx\"))"
   ]
  },
  {
   "cell_type": "markdown",
   "id": "f716b117",
   "metadata": {},
   "source": [
    "Q1."
   ]
  },
  {
   "cell_type": "code",
   "execution_count": 1,
   "id": "1ceaeec2",
   "metadata": {},
   "outputs": [],
   "source": [
    "def add_mat(M1, M2):\n",
    "    '''\n",
    "    M1 & M2 should have same dimensions(m*n).\n",
    "    '''\n",
    "    row_l = len(M1)\n",
    "    col_l = 0\n",
    "    for i in M1[0]:\n",
    "        col_l += 1\n",
    "    \n",
    "    M = []\n",
    "    for i in range(row_l):\n",
    "        temp = []\n",
    "        for j in range(col_l):\n",
    "            temp.append(M1[i][j] + M2[i][j])\n",
    "        M.append(temp)\n",
    "        \n",
    "    return M"
   ]
  },
  {
   "cell_type": "code",
   "execution_count": 2,
   "id": "ab195aa0",
   "metadata": {},
   "outputs": [
    {
     "name": "stdout",
     "output_type": "stream",
     "text": [
      "[[2, 0, 0], [0, 2, 0], [0, 0, 2]]\n"
     ]
    }
   ],
   "source": [
    "M1 = [[1,0,0],[0,1,0],[0,0,1]]\n",
    "M2 = [[1,0,0],[0,1,0],[0,0,1]]\n",
    "print(add_mat(M1,M2))"
   ]
  },
  {
   "cell_type": "markdown",
   "id": "bb0e46bc",
   "metadata": {},
   "source": [
    "Q2."
   ]
  },
  {
   "cell_type": "code",
   "execution_count": 5,
   "id": "2b100bfd",
   "metadata": {},
   "outputs": [],
   "source": [
    "def multiply_mat(M1,M2):\n",
    "    '''\n",
    "    dim(M1) = p X q\n",
    "    dim(M2) = q X r\n",
    "    M = M1 X M2\n",
    "    dim(M) = p X r\n",
    "    '''\n",
    "    p = len(M1)\n",
    "    q = len(M2)\n",
    "    r = 0\n",
    "    for i in M2[0]:\n",
    "        r += 1\n",
    "    \n",
    "    M = []\n",
    "    for i in range(p):\n",
    "        temp = []\n",
    "        for j in range(r):\n",
    "            s = 0\n",
    "            for k in range(q):\n",
    "                s += M1[i][k] * M2[k][j]\n",
    "            temp.append(s)\n",
    "        M.append(temp)\n",
    "        \n",
    "    return M"
   ]
  },
  {
   "cell_type": "code",
   "execution_count": 6,
   "id": "2ed85c2e",
   "metadata": {},
   "outputs": [
    {
     "name": "stdout",
     "output_type": "stream",
     "text": [
      "[[22, 28], [49, 64]]\n"
     ]
    }
   ],
   "source": [
    "M1 = [[1,2,3],[4,5,6]]\n",
    "M2 = [[1,2],[3,4],[5,6]]\n",
    "print(multiply_mat(M1,M2))"
   ]
  },
  {
   "cell_type": "markdown",
   "id": "c116d0f1",
   "metadata": {},
   "source": [
    "Q3."
   ]
  },
  {
   "cell_type": "code",
   "execution_count": 7,
   "id": "70368976",
   "metadata": {},
   "outputs": [],
   "source": [
    "def mat_transpose(M):\n",
    "    row_l = len(M)\n",
    "    col_l = 0\n",
    "    for i in M[0]:\n",
    "        col_l += 1\n",
    "        \n",
    "    M_T = []\n",
    "    for i in range(col_l):\n",
    "        temp = []\n",
    "        for j in range(row_l):\n",
    "            temp.append(M[j][i])\n",
    "        M_T.append(temp)\n",
    "        \n",
    "    return M_T"
   ]
  },
  {
   "cell_type": "code",
   "execution_count": 8,
   "id": "3353e621",
   "metadata": {},
   "outputs": [
    {
     "name": "stdout",
     "output_type": "stream",
     "text": [
      "[[1, 3, 5], [2, 4, 6]]\n"
     ]
    }
   ],
   "source": [
    "M = [[1,2],[3,4],[5,6]]\n",
    "print(mat_transpose(M))"
   ]
  },
  {
   "cell_type": "markdown",
   "id": "6b0364f9",
   "metadata": {},
   "source": [
    "Q4."
   ]
  },
  {
   "cell_type": "code",
   "execution_count": 9,
   "id": "b385df8b",
   "metadata": {},
   "outputs": [],
   "source": [
    "def sort_words(words):\n",
    "    l = words.split(' ')\n",
    "    l.sort()\n",
    "    sorted_word = ''\n",
    "    for i in l:\n",
    "        sorted_word += (i + ' ')\n",
    "        \n",
    "    return sorted_word"
   ]
  },
  {
   "cell_type": "code",
   "execution_count": 12,
   "id": "7efeb5d1",
   "metadata": {},
   "outputs": [
    {
     "data": {
      "text/plain": [
       "'Vikram amit is my name raj '"
      ]
     },
     "execution_count": 12,
     "metadata": {},
     "output_type": "execute_result"
    }
   ],
   "source": [
    "words = \"my name is amit Vikram raj\"\n",
    "sort_words(words)"
   ]
  },
  {
   "cell_type": "markdown",
   "id": "834f10be",
   "metadata": {},
   "source": [
    "Q5."
   ]
  },
  {
   "cell_type": "code",
   "execution_count": 16,
   "id": "a0565243",
   "metadata": {},
   "outputs": [],
   "source": [
    "puc = ['.', '!', ':', ';', \"'\", '\"', \"?\"]"
   ]
  },
  {
   "cell_type": "code",
   "execution_count": 17,
   "id": "d446c666",
   "metadata": {},
   "outputs": [],
   "source": [
    "def remove_punc(my_str):\n",
    "    puc = ['.', '!', ':', ';', \"'\", '\"', \"?\", '_', '-', '&']\n",
    "    s = ''\n",
    "    for i in my_str:\n",
    "        if i not in puc:\n",
    "            s += i\n",
    "    return s"
   ]
  },
  {
   "cell_type": "code",
   "execution_count": 18,
   "id": "232bc64e",
   "metadata": {},
   "outputs": [
    {
     "data": {
      "text/plain": [
       "'My name  is Amit Vikram Raj'"
      ]
     },
     "execution_count": 18,
     "metadata": {},
     "output_type": "execute_result"
    }
   ],
   "source": [
    "my_str = \"?My name. - is: Amit! Vikram__ Raj!!;\"\n",
    "remove_punc(my_str)"
   ]
  }
 ],
 "metadata": {
  "kernelspec": {
   "display_name": "Python 3",
   "language": "python",
   "name": "python3"
  },
  "language_info": {
   "codemirror_mode": {
    "name": "ipython",
    "version": 3
   },
   "file_extension": ".py",
   "mimetype": "text/x-python",
   "name": "python",
   "nbconvert_exporter": "python",
   "pygments_lexer": "ipython3",
   "version": "3.8.5"
  }
 },
 "nbformat": 4,
 "nbformat_minor": 5
}
