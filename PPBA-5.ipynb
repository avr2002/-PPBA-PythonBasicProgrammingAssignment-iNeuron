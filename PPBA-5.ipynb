{
 "cells": [
  {
   "cell_type": "code",
   "execution_count": 1,
   "id": "5307f13f",
   "metadata": {},
   "outputs": [],
   "source": [
    "def read_word_file(file_path):\n",
    "    '''\n",
    "    This function reads word file.\n",
    "    Pass the full file path with it's extension i.e. .docx \n",
    "    '''\n",
    "    import docx\n",
    "    \n",
    "    doc = docx.Document(file_path)\n",
    "    full_text = []\n",
    "    for para in doc.paragraphs:\n",
    "        full_text.append(para.text)    \n",
    "    return '\\n'.join(full_text)"
   ]
  },
  {
   "cell_type": "code",
   "execution_count": 2,
   "id": "3ed63025",
   "metadata": {},
   "outputs": [
    {
     "name": "stdout",
     "output_type": "stream",
     "text": [
      "Write a Python Program to Find LCM?\n",
      "Write a Python Program to Find HCF?\n",
      "Write a Python Program to Convert Decimal to Binary, Octal and Hexadecimal?\n",
      "Write a Python Program To Find ASCII value of a character?\n",
      "Write a Python Program to Make a Simple Calculator with 4 basic mathematical operations?\n"
     ]
    }
   ],
   "source": [
    "print(read_word_file(\"C:\\\\Users\\AVR\\Desktop\\iNeuron Assignments\\\\3.Python Programming Basic Assignment(PPBA)\\Programming_Assingment5.docx\"))"
   ]
  },
  {
   "cell_type": "markdown",
   "id": "b13585ef",
   "metadata": {},
   "source": [
    "Q2."
   ]
  },
  {
   "cell_type": "code",
   "execution_count": 16,
   "id": "6441ec0c",
   "metadata": {},
   "outputs": [],
   "source": [
    "# Using While Loop\n",
    "def compute_hcf(x, y):\n",
    "    if x > y: # choose the smaller number\n",
    "        smaller = y\n",
    "    else:\n",
    "        smaller = x\n",
    "    for i in range(1, smaller+1):\n",
    "        if((x % i == 0) and (y % i == 0)):\n",
    "            hcf = i \n",
    "    return hcf"
   ]
  },
  {
   "cell_type": "code",
   "execution_count": 17,
   "id": "a73a2ec0",
   "metadata": {},
   "outputs": [
    {
     "data": {
      "text/plain": [
       "6"
      ]
     },
     "execution_count": 17,
     "metadata": {},
     "output_type": "execute_result"
    }
   ],
   "source": [
    "compute_hcf(54,24)"
   ]
  },
  {
   "cell_type": "code",
   "execution_count": 18,
   "id": "09086c7a",
   "metadata": {},
   "outputs": [],
   "source": [
    "# Using the Euclidean Algorithm\n",
    "def compute_gcd(x, y):\n",
    "    while(y):\n",
    "        x, y = y, x % y\n",
    "    return x"
   ]
  },
  {
   "cell_type": "code",
   "execution_count": 19,
   "id": "27e9f77f",
   "metadata": {},
   "outputs": [
    {
     "data": {
      "text/plain": [
       "6"
      ]
     },
     "execution_count": 19,
     "metadata": {},
     "output_type": "execute_result"
    }
   ],
   "source": [
    "compute_gcd(24,54)"
   ]
  },
  {
   "cell_type": "markdown",
   "id": "dcf9e600",
   "metadata": {},
   "source": [
    "Q1."
   ]
  },
  {
   "cell_type": "code",
   "execution_count": 10,
   "id": "28636a7c",
   "metadata": {},
   "outputs": [],
   "source": [
    "# Using While Loop\n",
    "def compute_lcm(x, y):\n",
    "    if x > y:  # choose the greater number\n",
    "        greater = x\n",
    "    else:\n",
    "        greater = y\n",
    "        \n",
    "    while(True):\n",
    "        if((greater % x == 0) and (greater % y == 0)):\n",
    "            lcm = greater\n",
    "            break\n",
    "        greater += 1\n",
    "    return lcm"
   ]
  },
  {
   "cell_type": "code",
   "execution_count": 11,
   "id": "60110548",
   "metadata": {},
   "outputs": [
    {
     "data": {
      "text/plain": [
       "216"
      ]
     },
     "execution_count": 11,
     "metadata": {},
     "output_type": "execute_result"
    }
   ],
   "source": [
    "compute_lcm(54,24)"
   ]
  },
  {
   "cell_type": "code",
   "execution_count": 20,
   "id": "5c3781a5",
   "metadata": {},
   "outputs": [],
   "source": [
    "#Efficient Way to calculate LCM\n",
    "\n",
    "def compute_gcd(x, y):\n",
    "    while(y):\n",
    "        x, y = y, x % y\n",
    "    return x\n",
    "\n",
    "# This function computes LCM\n",
    "def compute_lcm(x, y):\n",
    "    lcm = (x*y)//compute_gcd(x,y)\n",
    "    return lcm"
   ]
  },
  {
   "cell_type": "code",
   "execution_count": 21,
   "id": "e9dee76d",
   "metadata": {},
   "outputs": [
    {
     "data": {
      "text/plain": [
       "216"
      ]
     },
     "execution_count": 21,
     "metadata": {},
     "output_type": "execute_result"
    }
   ],
   "source": [
    "compute_lcm(54,24)"
   ]
  },
  {
   "cell_type": "markdown",
   "id": "28032778",
   "metadata": {},
   "source": [
    "**For Qs. 1 & 2 help taken from:**\n",
    "\n",
    "**https://www.programiz.com/python-programming/examples/hcf**\n",
    "\n",
    "**https://www.programiz.com/python-programming/examples/lcm**"
   ]
  },
  {
   "cell_type": "markdown",
   "id": "e882727e",
   "metadata": {},
   "source": [
    "Q3."
   ]
  },
  {
   "cell_type": "code",
   "execution_count": 22,
   "id": "c2dbfb1f",
   "metadata": {},
   "outputs": [],
   "source": [
    "def convert_decimal(dec):\n",
    "    print(\"The decimal value of\", dec, \"is:\")\n",
    "    print(bin(dec), \"in binary.\")\n",
    "    print(oct(dec), \"in octal.\")\n",
    "    print(hex(dec), \"in hexadecimal.\")"
   ]
  },
  {
   "cell_type": "code",
   "execution_count": 23,
   "id": "29c4d85b",
   "metadata": {},
   "outputs": [
    {
     "name": "stdout",
     "output_type": "stream",
     "text": [
      "The decimal value of 101 is:\n",
      "0b1100101 in binary.\n",
      "0o145 in octal.\n",
      "0x65 in hexadecimal.\n"
     ]
    }
   ],
   "source": [
    "convert_decimal(101)"
   ]
  },
  {
   "cell_type": "markdown",
   "id": "f7c0247d",
   "metadata": {},
   "source": [
    "Q4."
   ]
  },
  {
   "cell_type": "code",
   "execution_count": 27,
   "id": "46651c7f",
   "metadata": {},
   "outputs": [],
   "source": [
    "def ascii_value():\n",
    "    i = input(\"Enter any character: \")\n",
    "    return f\"The ASCII Value of '{i}' is {ord(i)}\""
   ]
  },
  {
   "cell_type": "code",
   "execution_count": 28,
   "id": "b975c369",
   "metadata": {
    "scrolled": true
   },
   "outputs": [
    {
     "name": "stdout",
     "output_type": "stream",
     "text": [
      "Enter any character: m\n"
     ]
    },
    {
     "data": {
      "text/plain": [
       "\"The ASCII Value of 'm' is 109\""
      ]
     },
     "execution_count": 28,
     "metadata": {},
     "output_type": "execute_result"
    }
   ],
   "source": [
    "ascii_value()"
   ]
  },
  {
   "cell_type": "markdown",
   "id": "07e9d849",
   "metadata": {},
   "source": [
    "Q5."
   ]
  },
  {
   "cell_type": "code",
   "execution_count": 7,
   "id": "0f674b27",
   "metadata": {},
   "outputs": [],
   "source": [
    "def calculator(a,b):\n",
    "    ask = input(\"What do you want to do?[+,-,*,/]: \")\n",
    "    if ask == '+':\n",
    "        return a+b\n",
    "    elif ask == '-':\n",
    "        return a-b\n",
    "    elif ask == '*':\n",
    "        return a*b\n",
    "    elif ask == '/':\n",
    "        return a/b\n",
    "    else:\n",
    "        print(\"Only 4 arithmatic operations[+,-,*,/] are possible using this calculator!\")"
   ]
  },
  {
   "cell_type": "code",
   "execution_count": 8,
   "id": "aff21580",
   "metadata": {},
   "outputs": [
    {
     "name": "stdout",
     "output_type": "stream",
     "text": [
      "What do you want to do?[+,-,*,/]: -\n"
     ]
    },
    {
     "data": {
      "text/plain": [
       "0"
      ]
     },
     "execution_count": 8,
     "metadata": {},
     "output_type": "execute_result"
    }
   ],
   "source": [
    "calculator(2,2)"
   ]
  }
 ],
 "metadata": {
  "kernelspec": {
   "display_name": "Python 3",
   "language": "python",
   "name": "python3"
  },
  "language_info": {
   "codemirror_mode": {
    "name": "ipython",
    "version": 3
   },
   "file_extension": ".py",
   "mimetype": "text/x-python",
   "name": "python",
   "nbconvert_exporter": "python",
   "pygments_lexer": "ipython3",
   "version": "3.8.5"
  }
 },
 "nbformat": 4,
 "nbformat_minor": 5
}
