{
 "cells": [
  {
   "cell_type": "code",
   "execution_count": 6,
   "id": "13c2c53b",
   "metadata": {},
   "outputs": [],
   "source": [
    "def read_word_file(file_path):\n",
    "    '''\n",
    "    This function reads word file.\n",
    "    Pass the full file path with it's extension i.e. .docx \n",
    "    '''\n",
    "    import docx\n",
    "    \n",
    "    doc = docx.Document(file_path)\n",
    "    full_text = []\n",
    "    for para in doc.paragraphs:\n",
    "        full_text.append(para.text)\n",
    "    return '\\n'.join(full_text)"
   ]
  },
  {
   "cell_type": "code",
   "execution_count": 7,
   "id": "e9395f21",
   "metadata": {},
   "outputs": [
    {
     "name": "stdout",
     "output_type": "stream",
     "text": [
      "Write a Python Program to Display Fibonacci Sequence Using Recursion?\n",
      "Write a Python Program to Find Factorial of Number Using Recursion?\n",
      "Write a Python Program to calculate your Body Mass Index?\n",
      "Write a Python Program to calculate the natural logarithm of any number?\n",
      "Write a Python Program for cube sum of first n natural numbers?\n"
     ]
    }
   ],
   "source": [
    "print(read_word_file(\"C:\\\\Users\\AVR\\Desktop\\iNeuron Assignments\\\\3.Python Programming Basic Assignment(PPBA)\\Programming_Assingment6.docx\"))"
   ]
  },
  {
   "cell_type": "markdown",
   "id": "9af1bbc8",
   "metadata": {},
   "source": [
    "Q1."
   ]
  },
  {
   "cell_type": "code",
   "execution_count": 11,
   "id": "095d964c",
   "metadata": {},
   "outputs": [],
   "source": [
    "def fib_recursion(n):\n",
    "    a = 1\n",
    "    b = 1\n",
    "    if n == 1:\n",
    "        return [1]\n",
    "    if n == 2:\n",
    "        l = [a,b]\n",
    "        a,b = b,a+b\n",
    "        return l\n",
    "    return fib_recursion(n-1) + [fib_recursion(n-1)[-2] + fib_recursion(n-1)[-1]]"
   ]
  },
  {
   "cell_type": "code",
   "execution_count": 15,
   "id": "3233bbf7",
   "metadata": {},
   "outputs": [
    {
     "data": {
      "text/plain": [
       "[1, 1, 2, 3, 5, 8, 13, 21, 34, 55]"
      ]
     },
     "execution_count": 15,
     "metadata": {},
     "output_type": "execute_result"
    }
   ],
   "source": [
    "fib_recursion(10)"
   ]
  },
  {
   "cell_type": "markdown",
   "id": "8d59305a",
   "metadata": {},
   "source": [
    "Q2."
   ]
  },
  {
   "cell_type": "code",
   "execution_count": 17,
   "id": "6adc4e8b",
   "metadata": {},
   "outputs": [],
   "source": [
    "def factorial_rec(n):\n",
    "    if n == 0:\n",
    "        return 1\n",
    "    return n*factorial_rec(n-1)"
   ]
  },
  {
   "cell_type": "code",
   "execution_count": 18,
   "id": "194b3f49",
   "metadata": {},
   "outputs": [
    {
     "data": {
      "text/plain": [
       "120"
      ]
     },
     "execution_count": 18,
     "metadata": {},
     "output_type": "execute_result"
    }
   ],
   "source": [
    "factorial_rec(5)"
   ]
  },
  {
   "cell_type": "markdown",
   "id": "f9aba3f6",
   "metadata": {},
   "source": [
    "Q3."
   ]
  },
  {
   "cell_type": "code",
   "execution_count": 24,
   "id": "85330a12",
   "metadata": {},
   "outputs": [],
   "source": [
    "def bmi():\n",
    "    w = int(input(\"Enter your weight(Kg): \"))\n",
    "    h = int(input(\"Enter your height(cm): \"))/100\n",
    "    bmi = round(w/(h**2), 3)\n",
    "    print('Your BMI = ')\n",
    "    return bmi"
   ]
  },
  {
   "cell_type": "code",
   "execution_count": 26,
   "id": "efb8a50b",
   "metadata": {},
   "outputs": [
    {
     "name": "stdout",
     "output_type": "stream",
     "text": [
      "Enter your weight(Kg): 65\n",
      "Enter your height(cm): 170\n",
      "Your BMI = \n"
     ]
    },
    {
     "data": {
      "text/plain": [
       "22.491"
      ]
     },
     "execution_count": 26,
     "metadata": {},
     "output_type": "execute_result"
    }
   ],
   "source": [
    "bmi()"
   ]
  },
  {
   "cell_type": "markdown",
   "id": "cd09296c",
   "metadata": {},
   "source": [
    "Q4."
   ]
  },
  {
   "cell_type": "code",
   "execution_count": 27,
   "id": "e2de9438",
   "metadata": {},
   "outputs": [],
   "source": [
    "def natural_log(n):\n",
    "    import math\n",
    "    return math.log(n)"
   ]
  },
  {
   "cell_type": "code",
   "execution_count": 30,
   "id": "cc12c240",
   "metadata": {},
   "outputs": [
    {
     "data": {
      "text/plain": [
       "4.605170185988092"
      ]
     },
     "execution_count": 30,
     "metadata": {},
     "output_type": "execute_result"
    }
   ],
   "source": [
    "natural_log(100)"
   ]
  },
  {
   "cell_type": "markdown",
   "id": "6b591e31",
   "metadata": {},
   "source": [
    "Q5."
   ]
  },
  {
   "cell_type": "code",
   "execution_count": 31,
   "id": "d7a72507",
   "metadata": {},
   "outputs": [],
   "source": [
    "def sum_cube_n(n):\n",
    "    s = (n*(n+1)*0.5)**2\n",
    "    return s"
   ]
  },
  {
   "cell_type": "code",
   "execution_count": 32,
   "id": "8bffd443",
   "metadata": {},
   "outputs": [
    {
     "data": {
      "text/plain": [
       "225.0"
      ]
     },
     "execution_count": 32,
     "metadata": {},
     "output_type": "execute_result"
    }
   ],
   "source": [
    "sum_cube_n(5)"
   ]
  }
 ],
 "metadata": {
  "kernelspec": {
   "display_name": "Python 3",
   "language": "python",
   "name": "python3"
  },
  "language_info": {
   "codemirror_mode": {
    "name": "ipython",
    "version": 3
   },
   "file_extension": ".py",
   "mimetype": "text/x-python",
   "name": "python",
   "nbconvert_exporter": "python",
   "pygments_lexer": "ipython3",
   "version": "3.8.5"
  }
 },
 "nbformat": 4,
 "nbformat_minor": 5
}
