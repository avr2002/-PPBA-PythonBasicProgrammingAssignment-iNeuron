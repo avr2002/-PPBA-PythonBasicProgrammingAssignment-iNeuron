{
 "cells": [
  {
   "cell_type": "code",
   "execution_count": 1,
   "id": "45bb5d87",
   "metadata": {},
   "outputs": [],
   "source": [
    "def read_word_file(file_path):\n",
    "    '''\n",
    "    This function reads word file.\n",
    "    Pass the full file path with it's extension i.e. .docx \n",
    "    '''\n",
    "    import docx\n",
    "    \n",
    "    doc = docx.Document(file_path)\n",
    "    full_text = []\n",
    "    for para in doc.paragraphs:\n",
    "        full_text.append(para.text)\n",
    "    return '\\n'.join(full_text)  "
   ]
  },
  {
   "cell_type": "code",
   "execution_count": 2,
   "id": "30f202ec",
   "metadata": {},
   "outputs": [
    {
     "name": "stdout",
     "output_type": "stream",
     "text": [
      "Write a Python Program to Check if a Number is Positive, Negative or Zero?\n",
      "Write a Python Program to Check if a Number is Odd or Even?\n",
      "Write a Python Program to Check Leap Year?\n",
      "Write a Python Program to Check Prime Number?\n",
      "Write a Python Program to Print all Prime Numbers in an Interval of 1-10000?\n"
     ]
    }
   ],
   "source": [
    "print(read_word_file(\"C:\\\\Users\\AVR\\Desktop\\iNeuron Assignments\\\\3.Python Programming Basic Assignment(PPBA)\\Programming_Assingment3.docx\"))"
   ]
  },
  {
   "cell_type": "markdown",
   "id": "a1138d8e",
   "metadata": {},
   "source": [
    "Q1."
   ]
  },
  {
   "cell_type": "code",
   "execution_count": 10,
   "id": "0ca803a2",
   "metadata": {},
   "outputs": [],
   "source": [
    "def check_num(n):\n",
    "    if n==0:\n",
    "        print(\"Number is Zero!\")\n",
    "    elif n>0:\n",
    "        print('Number is Positive!')\n",
    "    else:\n",
    "        print(\"Number is Negative!\")"
   ]
  },
  {
   "cell_type": "markdown",
   "id": "6b57c6b9",
   "metadata": {},
   "source": [
    "Q2."
   ]
  },
  {
   "cell_type": "code",
   "execution_count": 11,
   "id": "07031425",
   "metadata": {},
   "outputs": [],
   "source": [
    "def odd_even(n):\n",
    "    if n%2 == 0:\n",
    "        print(\"Number if Even!\")\n",
    "    else:\n",
    "        print(\"Number is Odd!\")"
   ]
  },
  {
   "cell_type": "markdown",
   "id": "d8bf8cf5",
   "metadata": {},
   "source": [
    "Q3."
   ]
  },
  {
   "cell_type": "code",
   "execution_count": 12,
   "id": "747830ae",
   "metadata": {},
   "outputs": [],
   "source": [
    "def check_leapYear(year):\n",
    "    if year%4 == 0:\n",
    "        print(\"This year is a Leap Year!\")\n",
    "    else:\n",
    "        print(\"This year is not a Leap Year!\")"
   ]
  },
  {
   "cell_type": "markdown",
   "id": "110b725e",
   "metadata": {},
   "source": [
    "Q4."
   ]
  },
  {
   "cell_type": "code",
   "execution_count": 29,
   "id": "761c1171",
   "metadata": {},
   "outputs": [],
   "source": [
    "def check_prime(n):\n",
    "    temp = True\n",
    "    for i in range(2,n):\n",
    "        if n%i == 0:\n",
    "            temp = False\n",
    "            break\n",
    "    \n",
    "    if temp == False:\n",
    "        return f\"{temp}, Number is not Prime!\"\n",
    "    else:\n",
    "        return f\"{temp}, Prime!\""
   ]
  },
  {
   "cell_type": "code",
   "execution_count": 30,
   "id": "6f9a94d6",
   "metadata": {},
   "outputs": [
    {
     "data": {
      "text/plain": [
       "'True, Prime!'"
      ]
     },
     "execution_count": 30,
     "metadata": {},
     "output_type": "execute_result"
    }
   ],
   "source": [
    "check_prime(13)"
   ]
  },
  {
   "cell_type": "markdown",
   "id": "62999d56",
   "metadata": {},
   "source": [
    "Q5."
   ]
  },
  {
   "cell_type": "code",
   "execution_count": 35,
   "id": "ce2ce128",
   "metadata": {},
   "outputs": [],
   "source": [
    "def primes_list(n=10000):\n",
    "    import sys\n",
    "    if n<0:\n",
    "        sys.exit(\"Negative mumbers not allowed!\")\n",
    "    \n",
    "    l = []\n",
    "    for i in range(1,n+1):\n",
    "        if check_prime(i) == f\"{True}, Prime!\":\n",
    "            l.append(i)\n",
    "    return l"
   ]
  },
  {
   "cell_type": "code",
   "execution_count": 36,
   "id": "ab076a43",
   "metadata": {},
   "outputs": [
    {
     "data": {
      "text/plain": [
       "[1, 2, 3, 5, 7, 11, 13, 17, 19, 23, 29, 31, 37, 41, 43, 47, 53, 59]"
      ]
     },
     "execution_count": 36,
     "metadata": {},
     "output_type": "execute_result"
    }
   ],
   "source": [
    "primes_list(60)"
   ]
  },
  {
   "cell_type": "code",
   "execution_count": 37,
   "id": "ecc72d29",
   "metadata": {},
   "outputs": [
    {
     "ename": "SystemExit",
     "evalue": "Negative mumbers not allowed!",
     "output_type": "error",
     "traceback": [
      "An exception has occurred, use %tb to see the full traceback.\n",
      "\u001b[1;31mSystemExit\u001b[0m\u001b[1;31m:\u001b[0m Negative mumbers not allowed!\n"
     ]
    },
    {
     "name": "stderr",
     "output_type": "stream",
     "text": [
      "C:\\Users\\AVR\\anaconda3\\lib\\site-packages\\IPython\\core\\interactiveshell.py:3452: UserWarning: To exit: use 'exit', 'quit', or Ctrl-D.\n",
      "  warn(\"To exit: use 'exit', 'quit', or Ctrl-D.\", stacklevel=1)\n"
     ]
    }
   ],
   "source": [
    "primes_list(-10)"
   ]
  }
 ],
 "metadata": {
  "kernelspec": {
   "display_name": "Python 3",
   "language": "python",
   "name": "python3"
  },
  "language_info": {
   "codemirror_mode": {
    "name": "ipython",
    "version": 3
   },
   "file_extension": ".py",
   "mimetype": "text/x-python",
   "name": "python",
   "nbconvert_exporter": "python",
   "pygments_lexer": "ipython3",
   "version": "3.8.5"
  }
 },
 "nbformat": 4,
 "nbformat_minor": 5
}
