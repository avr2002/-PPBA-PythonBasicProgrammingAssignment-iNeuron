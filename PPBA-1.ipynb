{
 "cells": [
  {
   "cell_type": "code",
   "execution_count": 2,
   "id": "00fe0134",
   "metadata": {},
   "outputs": [],
   "source": [
    "def read_word_file(file_path):\n",
    "    '''\n",
    "    This function reads word file.\n",
    "    Pass the full file path with it's extension i.e. .docx \n",
    "    '''\n",
    "    import docx\n",
    "    \n",
    "    doc = docx.Document(file_path)\n",
    "    full_text = []\n",
    "    for para in doc.paragraphs:\n",
    "        full_text.append(para.text)\n",
    "    return '\\n'.join(full_text)  "
   ]
  },
  {
   "cell_type": "code",
   "execution_count": 4,
   "id": "f9b1755f",
   "metadata": {},
   "outputs": [
    {
     "name": "stdout",
     "output_type": "stream",
     "text": [
      "Write a Python program to print \"Hello Python\"?\n",
      "Write a Python program to do arithmetical operations addition and division.?\n",
      "Write a Python program to find the area of a triangle?\n",
      "Write a Python program to swap two variables?\n",
      "Write a Python program to generate a random number?\n"
     ]
    }
   ],
   "source": [
    "print(read_word_file(\"C:\\\\Users\\AVR\\Desktop\\iNeuron Assignments\\\\3.Python Programming Basic Assignment(PPBA)\\Programming_Assingment1.docx\"))"
   ]
  },
  {
   "cell_type": "markdown",
   "id": "64a0e2e5",
   "metadata": {},
   "source": [
    "## Q1. Write a Python program to print \"Hello Python\"?"
   ]
  },
  {
   "cell_type": "code",
   "execution_count": 13,
   "id": "b05e15f2",
   "metadata": {},
   "outputs": [],
   "source": [
    "def namaste():\n",
    "    print('Namaste Duniya!!\\nNamaste Python!')"
   ]
  },
  {
   "cell_type": "code",
   "execution_count": 14,
   "id": "d25956c4",
   "metadata": {},
   "outputs": [
    {
     "name": "stdout",
     "output_type": "stream",
     "text": [
      "Namaste Duniya!!\n",
      "Namaste Python!\n"
     ]
    }
   ],
   "source": [
    "namaste()"
   ]
  },
  {
   "cell_type": "markdown",
   "id": "3bdd8a79",
   "metadata": {},
   "source": [
    "## Q2. Write a Python program to do arithmetical operations addition and division.?"
   ]
  },
  {
   "cell_type": "code",
   "execution_count": 18,
   "id": "232a2ddf",
   "metadata": {},
   "outputs": [],
   "source": [
    "def add_or_divide(a,b):\n",
    "    return f\"Sum = {a+b}\\nDivision(a/b) = {a/b: .3f}\""
   ]
  },
  {
   "cell_type": "code",
   "execution_count": 19,
   "id": "4101ea11",
   "metadata": {},
   "outputs": [
    {
     "name": "stdout",
     "output_type": "stream",
     "text": [
      "Sum = 5\n",
      "Division(a/b) =  0.667\n"
     ]
    }
   ],
   "source": [
    "print(add_or_divide(2,3))"
   ]
  },
  {
   "cell_type": "markdown",
   "id": "a9f17596",
   "metadata": {},
   "source": [
    "## Q3. Write a Python program to find the area of a triangle?"
   ]
  },
  {
   "cell_type": "code",
   "execution_count": 29,
   "id": "1f0c2dfb",
   "metadata": {},
   "outputs": [],
   "source": [
    "def area_of_triangle(base, height):\n",
    "    return f\"Area of triangle with base = {base} and height = {height} = {0.5*base*height: .3f} in respective units\""
   ]
  },
  {
   "cell_type": "code",
   "execution_count": 30,
   "id": "d5183256",
   "metadata": {},
   "outputs": [
    {
     "name": "stdout",
     "output_type": "stream",
     "text": [
      "Area of triangle with base = 19 and height = 15 =  142.500 in respective units\n"
     ]
    }
   ],
   "source": [
    "print(area_of_triangle(19,15))"
   ]
  },
  {
   "cell_type": "markdown",
   "id": "4c318d1e",
   "metadata": {},
   "source": [
    "## Q4. Write a Python program to swap two variables?"
   ]
  },
  {
   "cell_type": "code",
   "execution_count": 1,
   "id": "f3d6b2f4",
   "metadata": {},
   "outputs": [],
   "source": [
    "def swap_var(a,b):\n",
    "    temp = a\n",
    "    a = b\n",
    "    b = temp\n",
    "    return f\"a = {a}, b = {b}\""
   ]
  },
  {
   "cell_type": "code",
   "execution_count": 2,
   "id": "e9813428",
   "metadata": {},
   "outputs": [
    {
     "data": {
      "text/plain": [
       "'a = 4, b = 2'"
      ]
     },
     "execution_count": 2,
     "metadata": {},
     "output_type": "execute_result"
    }
   ],
   "source": [
    "swap_var(2,4)"
   ]
  },
  {
   "cell_type": "code",
   "execution_count": 4,
   "id": "fd4a0e16",
   "metadata": {},
   "outputs": [
    {
     "data": {
      "text/plain": [
       "'a = Namaste, b = me!'"
      ]
     },
     "execution_count": 4,
     "metadata": {},
     "output_type": "execute_result"
    }
   ],
   "source": [
    "swap_var('me!', \"Namaste\")"
   ]
  },
  {
   "cell_type": "markdown",
   "id": "91a26eb7",
   "metadata": {},
   "source": [
    "## Q5. Write a Python program to generate a random number?"
   ]
  },
  {
   "cell_type": "code",
   "execution_count": 603,
   "id": "961b31cb",
   "metadata": {},
   "outputs": [],
   "source": [
    "def gen_random_nums(a=-sys.maxsize, b=sys.maxsize):\n",
    "    import random\n",
    "    import sys\n",
    "    return random.randrange(a,b)"
   ]
  },
  {
   "cell_type": "code",
   "execution_count": 607,
   "id": "3d13a121",
   "metadata": {},
   "outputs": [
    {
     "data": {
      "text/plain": [
       "-5508958511757061409"
      ]
     },
     "execution_count": 607,
     "metadata": {},
     "output_type": "execute_result"
    }
   ],
   "source": [
    "gen_random_nums()"
   ]
  }
 ],
 "metadata": {
  "kernelspec": {
   "display_name": "Python 3",
   "language": "python",
   "name": "python3"
  },
  "language_info": {
   "codemirror_mode": {
    "name": "ipython",
    "version": 3
   },
   "file_extension": ".py",
   "mimetype": "text/x-python",
   "name": "python",
   "nbconvert_exporter": "python",
   "pygments_lexer": "ipython3",
   "version": "3.8.5"
  }
 },
 "nbformat": 4,
 "nbformat_minor": 5
}
