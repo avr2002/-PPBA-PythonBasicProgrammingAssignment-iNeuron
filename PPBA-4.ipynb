{
 "cells": [
  {
   "cell_type": "code",
   "execution_count": 1,
   "id": "9aa7b7fc",
   "metadata": {},
   "outputs": [],
   "source": [
    "def read_word_file(file_path):\n",
    "    '''\n",
    "    This function reads word file.\n",
    "    Pass the full file path with it's extension i.e. .docx \n",
    "    '''\n",
    "    import docx\n",
    "    \n",
    "    doc = docx.Document(file_path)\n",
    "    full_text = []\n",
    "    for para in doc.paragraphs:\n",
    "        full_text.append(para.text)\n",
    "    return '\\n'.join(full_text)  "
   ]
  },
  {
   "cell_type": "code",
   "execution_count": 2,
   "id": "984f1e84",
   "metadata": {},
   "outputs": [
    {
     "name": "stdout",
     "output_type": "stream",
     "text": [
      "Write a Python Program to Find the Factorial of a Number?\n",
      "Write a Python Program to Display the multiplication Table?\n",
      "Write a Python Program to Print the Fibonacci sequence?\n",
      "Write a Python Program to Check Armstrong Number?\n",
      "Write a Python Program to Find Armstrong Number in an Interval?\n",
      "Write a Python Program to Find the Sum of Natural Numbers?\n"
     ]
    }
   ],
   "source": [
    "print(read_word_file(\"C:\\\\Users\\AVR\\Desktop\\iNeuron Assignments\\\\3.Python Programming Basic Assignment(PPBA)\\Programming_Assingment4.docx\"))"
   ]
  },
  {
   "cell_type": "markdown",
   "id": "902beca4",
   "metadata": {},
   "source": [
    "Q1."
   ]
  },
  {
   "cell_type": "code",
   "execution_count": 1,
   "id": "ab925874",
   "metadata": {},
   "outputs": [],
   "source": [
    "def factorial(n):\n",
    "    import sys\n",
    "    if n<0:\n",
    "        sys.exit('Negative numbers not allowed!')\n",
    "    if n == 0:\n",
    "        return 1\n",
    "    \n",
    "    fac = n*factorial(n-1)\n",
    "    return fac"
   ]
  },
  {
   "cell_type": "code",
   "execution_count": 4,
   "id": "43500de8",
   "metadata": {},
   "outputs": [
    {
     "data": {
      "text/plain": [
       "120"
      ]
     },
     "execution_count": 4,
     "metadata": {},
     "output_type": "execute_result"
    }
   ],
   "source": [
    "factorial(5)"
   ]
  },
  {
   "cell_type": "code",
   "execution_count": 2,
   "id": "3bbd71bf",
   "metadata": {},
   "outputs": [
    {
     "ename": "SystemExit",
     "evalue": "Negative numbers not allowed!",
     "output_type": "error",
     "traceback": [
      "An exception has occurred, use %tb to see the full traceback.\n",
      "\u001b[1;31mSystemExit\u001b[0m\u001b[1;31m:\u001b[0m Negative numbers not allowed!\n"
     ]
    },
    {
     "name": "stderr",
     "output_type": "stream",
     "text": [
      "C:\\Users\\AVR\\anaconda3\\lib\\site-packages\\IPython\\core\\interactiveshell.py:3452: UserWarning: To exit: use 'exit', 'quit', or Ctrl-D.\n",
      "  warn(\"To exit: use 'exit', 'quit', or Ctrl-D.\", stacklevel=1)\n"
     ]
    }
   ],
   "source": [
    "factorial(-3)"
   ]
  },
  {
   "cell_type": "markdown",
   "id": "e70a9c53",
   "metadata": {},
   "source": [
    "Q2."
   ]
  },
  {
   "cell_type": "code",
   "execution_count": 5,
   "id": "9aa42b27",
   "metadata": {},
   "outputs": [],
   "source": [
    "def table(n):\n",
    "    for i in range(1,n+1):\n",
    "        print(f\"{n} x {i} = {n*i}\")"
   ]
  },
  {
   "cell_type": "code",
   "execution_count": 6,
   "id": "72e63b73",
   "metadata": {},
   "outputs": [
    {
     "name": "stdout",
     "output_type": "stream",
     "text": [
      "10 x 1 = 10\n",
      "10 x 2 = 20\n",
      "10 x 3 = 30\n",
      "10 x 4 = 40\n",
      "10 x 5 = 50\n",
      "10 x 6 = 60\n",
      "10 x 7 = 70\n",
      "10 x 8 = 80\n",
      "10 x 9 = 90\n",
      "10 x 10 = 100\n"
     ]
    }
   ],
   "source": [
    "table(10)"
   ]
  },
  {
   "cell_type": "markdown",
   "id": "378fbdcc",
   "metadata": {},
   "source": [
    "Q3."
   ]
  },
  {
   "cell_type": "code",
   "execution_count": 9,
   "id": "6e55d69a",
   "metadata": {},
   "outputs": [],
   "source": [
    "def fib(n):\n",
    "    a = 1\n",
    "    b = 1\n",
    "    l = []\n",
    "    for i in range(n):\n",
    "        l.append(a)\n",
    "        a,b = b,a+b\n",
    "    return l"
   ]
  },
  {
   "cell_type": "code",
   "execution_count": 10,
   "id": "7227bd91",
   "metadata": {},
   "outputs": [
    {
     "data": {
      "text/plain": [
       "[1, 1, 2, 3, 5, 8, 13, 21, 34, 55]"
      ]
     },
     "execution_count": 10,
     "metadata": {},
     "output_type": "execute_result"
    }
   ],
   "source": [
    "fib(10)"
   ]
  },
  {
   "cell_type": "markdown",
   "id": "0a8bf3d3",
   "metadata": {},
   "source": [
    "Q4."
   ]
  },
  {
   "cell_type": "code",
   "execution_count": 11,
   "id": "09233ef4",
   "metadata": {},
   "outputs": [],
   "source": [
    "def check_armstrongNum(n):\n",
    "    '''\n",
    "    An Armstrong number, also known as narcissistic number, is a number that is \n",
    "    equal to the sum of the cubes of its own digits.\n",
    "    For example, 370 is an Armstrong number since 370 = 3*3*3 + 7*7*7 + 0*0*0 .\n",
    "    '''\n",
    "    temp = n\n",
    "    digits_list = []\n",
    "    while temp > 0:\n",
    "        digits_list.append(int(temp%10))\n",
    "        temp = int(temp/10)\n",
    "        \n",
    "    digits_cube_sum = 0    \n",
    "    for i in digits_list:\n",
    "        digits_cube_sum = digits_cube_sum + i**3\n",
    "        \n",
    "    if n == digits_cube_sum:\n",
    "        return True\n",
    "    else:\n",
    "        return False"
   ]
  },
  {
   "cell_type": "code",
   "execution_count": 12,
   "id": "dd3ad542",
   "metadata": {},
   "outputs": [
    {
     "data": {
      "text/plain": [
       "True"
      ]
     },
     "execution_count": 12,
     "metadata": {},
     "output_type": "execute_result"
    }
   ],
   "source": [
    "check_armstrongNum(370)"
   ]
  },
  {
   "cell_type": "code",
   "execution_count": 13,
   "id": "8e60b197",
   "metadata": {},
   "outputs": [
    {
     "data": {
      "text/plain": [
       "False"
      ]
     },
     "execution_count": 13,
     "metadata": {},
     "output_type": "execute_result"
    }
   ],
   "source": [
    "check_armstrongNum(253)"
   ]
  },
  {
   "cell_type": "markdown",
   "id": "7539331d",
   "metadata": {},
   "source": [
    "Q5."
   ]
  },
  {
   "cell_type": "code",
   "execution_count": 16,
   "id": "8a078f2b",
   "metadata": {},
   "outputs": [],
   "source": [
    "def armstrongNum(n):\n",
    "    l = []\n",
    "    for i in range(n+1):\n",
    "        if check_armstrongNum(i):\n",
    "            l.append(i)\n",
    "    return l"
   ]
  },
  {
   "cell_type": "code",
   "execution_count": 18,
   "id": "a7abe79f",
   "metadata": {},
   "outputs": [
    {
     "data": {
      "text/plain": [
       "[0, 1, 153, 370, 371, 407]"
      ]
     },
     "execution_count": 18,
     "metadata": {},
     "output_type": "execute_result"
    }
   ],
   "source": [
    "armstrongNum(1000)"
   ]
  },
  {
   "cell_type": "markdown",
   "id": "4c5546bb",
   "metadata": {},
   "source": [
    "Q6."
   ]
  },
  {
   "cell_type": "code",
   "execution_count": 19,
   "id": "e46f5ca2",
   "metadata": {},
   "outputs": [],
   "source": [
    "def sum_upto_n(n):\n",
    "    print(f'Sum of {n} Natural Nums. = ')\n",
    "    return n*(n+1)*0.5"
   ]
  },
  {
   "cell_type": "code",
   "execution_count": 20,
   "id": "cbdcb90a",
   "metadata": {},
   "outputs": [
    {
     "name": "stdout",
     "output_type": "stream",
     "text": [
      "Sum of 10 Natural Nums. = \n"
     ]
    },
    {
     "data": {
      "text/plain": [
       "55.0"
      ]
     },
     "execution_count": 20,
     "metadata": {},
     "output_type": "execute_result"
    }
   ],
   "source": [
    "sum_upto_n(10)"
   ]
  }
 ],
 "metadata": {
  "kernelspec": {
   "display_name": "Python 3",
   "language": "python",
   "name": "python3"
  },
  "language_info": {
   "codemirror_mode": {
    "name": "ipython",
    "version": 3
   },
   "file_extension": ".py",
   "mimetype": "text/x-python",
   "name": "python",
   "nbconvert_exporter": "python",
   "pygments_lexer": "ipython3",
   "version": "3.8.5"
  }
 },
 "nbformat": 4,
 "nbformat_minor": 5
}
